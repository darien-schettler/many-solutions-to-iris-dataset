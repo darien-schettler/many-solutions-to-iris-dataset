{
 "cells": [
  {
   "cell_type": "markdown",
   "metadata": {},
   "source": [
    "# <center>The Many Solutions Tutorials - Part 1\n",
    "---\n",
    "\n",
    "## <center>The Iris Dataset"
   ]
  },
  {
   "cell_type": "markdown",
   "metadata": {},
   "source": [
    "***\n",
    "\n",
    "### This tutorial will mostly leverage the following libraries:\n",
    "                \n",
    "        --> scikit-learn <--\n",
    "        -->     Keras    <--\n",
    "\n",
    "***\n",
    "\n",
    "### Specifically, you will learn how to:\n",
    "\n",
    "1. Examine your problem\n",
    "2. Prepare your data (raw data, feature extraction, feature engineering, etc.)\n",
    "3. Spot-check a set of algorithms\n",
    "4. Examine your results\n",
    "5. Double-down on the algorithms that worked best\n",
    "\n",
    "***\n",
    "\n",
    "### The *Many Solutions* That We Will Be Looking At To The Iris Dataset Problem Are:\n",
    "\n",
    "- k-Nearest Neighbors (k-NN)\n",
    "- Naïve Bayes\n",
    "- Logistic Regression\n",
    "- Support Vector Machines (SVMs)\n",
    "- Decision Trees\n",
    "- Random Forests\n",
    "- Perceptrons (Simple NNs)\n",
    "- Multi-layer, feedforward neural networks (DNNs)\n",
    "- Convolutional Neural Networks (CNNs)\n",
    "\n",
    "***\n",
    "\n",
    "### Let's Import The Required Libraries\n",
    "***"
   ]
  },
  {
   "cell_type": "code",
   "execution_count": 1,
   "metadata": {},
   "outputs": [],
   "source": [
    "# import the necessary packages\n",
    "\n",
    "# SKLEARN ALGORITHM/METRIC PACKAGES\n",
    "from sklearn.neighbors import KNeighborsClassifier\n",
    "from sklearn.naive_bayes import GaussianNB\n",
    "from sklearn.linear_model import LogisticRegression\n",
    "from sklearn.svm import SVC\n",
    "from sklearn.tree import DecisionTreeClassifier\n",
    "from sklearn.ensemble import RandomForestClassifier\n",
    "from sklearn.neural_network import MLPClassifier\n",
    "from sklearn.preprocessing import LabelEncoder\n",
    "from sklearn.model_selection import train_test_split\n",
    "from sklearn.metrics import classification_report\n",
    "\n",
    "# INTERFACING WITH IMAGES\n",
    "from PIL import Image\n",
    "\n",
    "# \n",
    "from imutils import paths\n",
    "\n",
    "#PLOTTING\n",
    "import matplotlib.pyplot as plt\n",
    "\n",
    "# DATA HANDLING\n",
    "import numpy as np\n",
    "import pandas as pd\n",
    "\n",
    "# OS HANDLING\n",
    "import os"
   ]
  },
  {
   "cell_type": "markdown",
   "metadata": {},
   "source": [
    "## <center>Let's Look At The Iris Dataset Briefly<br>\n",
    "\n",
    "***\n",
    "\n",
    "![iris_1](./inline_images/iris_1.jpg)\n",
    "\n",
    "***\n",
    "**<center>Figure 1:</center>**\n",
    "*<center>The Iris dataset is a numerical dataset describing Iris flowers.<br>It captures measurements of their sepal and petal length/width</center>*\n",
    "*<center>Using these measurements we can attempt to predict flower species with Python and machine learning</center>*\n",
    "\n",
    "***"
   ]
  },
  {
   "cell_type": "markdown",
   "metadata": {},
   "source": [
    "***\n",
    "## <center>Step 1: Exploring The Problem At Hand\n",
    "\n",
    "***\n",
    "**Why Use the Iris Dataset?**\n",
    "- *The Iris Dataset is a simple, 'hello world'esque entry into machine learning and pattern recognition*\n",
    "\n",
    "***\n",
    "\n",
    "**What is the Iris Dataset?**\n",
    "- *We call this dataset the “Iris Dataset” because it captures attributes of three Iris flower species:*\n",
    "    - ***<font color=\"purple\">Iris Setosa</font>***\n",
    "    - ***<font color=\"lightpurple\">Iris Versicolor</font>***\n",
    "    - ***<font color=\"lightblue\">Iris Virginica</font>***\n",
    "\n",
    "***\n",
    "\n",
    "**What are the Variables/Features We Are Concerned With?**\n",
    "- *Each species of flower is quantified via four numerical attributes, all measured in centimeters:*\n",
    "    1. ***Sepal length***\n",
    "    2. ***Sepal width***\n",
    "    3. ***Petal length***\n",
    "    4. ***Petal width***\n",
    "\n",
    "***\n",
    "\n",
    "**What is the goal?**\n",
    "- *Our goal is to train a machine learning model to correctly predict the **flower species** from the **measured attributes***\n",
    "\n",
    "***\n",
    "\n",
    "**Important Notes?**\n",
    "- *One of the classes is linearly separable from the other two — the latter are not linearly separable from each other*\n",
    "    - i.e. In order to correctly classify these the flower species, we will need a non-linear model\n",
    "***"
   ]
  },
  {
   "cell_type": "markdown",
   "metadata": {},
   "source": [
    "***\n",
    "## <center>Step 2 : Prepare The Data\n",
    "\n",
    "***\n",
    "At this step we load the data and decide if we need to perform *feature extraction* or *feature engineering*:\n",
    "\n",
    "- **Feature extraction** is the process of applying an algorithm to quantify your data in some manner\n",
    "    - For example, when working with images we may wish to compute histograms to characterize the color of the image\n",
    "<br><br>\n",
    "- **Feature engineering** is the process of transforming your raw input data into a representation that better represents the underlying problem\n",
    "    - Feature engineering is a more advanced technique\n",
    "***"
   ]
  },
  {
   "cell_type": "markdown",
   "metadata": {},
   "source": [
    "### <center>Step 2.1 -- Load The Data Into a Dataframe (From CSV)"
   ]
  },
  {
   "cell_type": "code",
   "execution_count": 2,
   "metadata": {},
   "outputs": [
    {
     "name": "stdout",
     "output_type": "stream",
     "text": [
      "\n",
      "\n",
      "First Ten Entries In The Dataframe...\n",
      "-------------------------------------------------------------------------\n",
      "    SepalLengthCm  SepalWidthCm  PetalLengthCm  PetalWidthCm      Species\n",
      "Id                                                                       \n",
      "1             5.1           3.5            1.4           0.2  Iris-setosa\n",
      "2             4.9           3.0            1.4           0.2  Iris-setosa\n",
      "3             4.7           3.2            1.3           0.2  Iris-setosa\n",
      "4             4.6           3.1            1.5           0.2  Iris-setosa\n",
      "5             5.0           3.6            1.4           0.2  Iris-setosa\n",
      "6             5.4           3.9            1.7           0.4  Iris-setosa\n",
      "7             4.6           3.4            1.4           0.3  Iris-setosa\n",
      "8             5.0           3.4            1.5           0.2  Iris-setosa\n",
      "9             4.4           2.9            1.4           0.2  Iris-setosa\n",
      "10            4.9           3.1            1.5           0.1  Iris-setosa\n",
      "-------------------------------------------------------------------------\n",
      "\n",
      "\n",
      "Random Ten Entries In The Dataframe...\n",
      "-------------------------------------------------------------------------\n",
      "     SepalLengthCm  SepalWidthCm  PetalLengthCm  PetalWidthCm          Species\n",
      "Id                                                                            \n",
      "49             5.3           3.7            1.5           0.2      Iris-setosa\n",
      "116            6.4           3.2            5.3           2.3   Iris-virginica\n",
      "114            5.7           2.5            5.0           2.0   Iris-virginica\n",
      "109            6.7           2.5            5.8           1.8   Iris-virginica\n",
      "69             6.2           2.2            4.5           1.5  Iris-versicolor\n",
      "38             4.9           3.1            1.5           0.1      Iris-setosa\n",
      "112            6.4           2.7            5.3           1.9   Iris-virginica\n",
      "135            6.1           2.6            5.6           1.4   Iris-virginica\n",
      "68             5.8           2.7            4.1           1.0  Iris-versicolor\n",
      "73             6.3           2.5            4.9           1.5  Iris-versicolor\n",
      "-------------------------------------------------------------------------\n"
     ]
    }
   ],
   "source": [
    "# Import the data into a df (replace the default index column with the Id column)\n",
    "df = pd.read_csv(\"./data/Iris.csv\", index_col=0)\n",
    "\n",
    "# print the first 10 entries (head)\n",
    "print(\"\\n\\nFirst Ten Entries In The Dataframe...\")\n",
    "print(\"-------------------------------------------------------------------------\")\n",
    "print(df.head(10))\n",
    "print(\"-------------------------------------------------------------------------\")\n",
    "\n",
    "# print the a random 10 entires (sample)\n",
    "print(\"\\n\\nRandom Ten Entries In The Dataframe...\")\n",
    "print(\"-------------------------------------------------------------------------\")\n",
    "print(df.sample(n=10))\n",
    "print(\"-------------------------------------------------------------------------\")"
   ]
  },
  {
   "cell_type": "markdown",
   "metadata": {},
   "source": [
    "***\n",
    "### <center><br>Step 2.2 - Feature Extraction (SKIP--NOT NECESSARY)\n",
    "***\n",
    "\n",
    "### <center><br>Step 2.3 - Feature Engineering</center>\n",
    "***\n",
    "\n",
    "- Normalize The Data\n",
    "- Identify and Remove Outliers\n",
    "- Check for Class Bias\n",
    "- HELD\n",
    "- HELD\n",
    "- HELD"
   ]
  },
  {
   "cell_type": "code",
   "execution_count": 3,
   "metadata": {},
   "outputs": [
    {
     "name": "stdout",
     "output_type": "stream",
     "text": [
      "       SepalLengthCm  SepalWidthCm  PetalLengthCm  PetalWidthCm\n",
      "count     150.000000    150.000000     150.000000    150.000000\n",
      "mean        5.843333      3.054000       3.758667      1.198667\n",
      "std         0.828066      0.433594       1.764420      0.763161\n",
      "min         4.300000      2.000000       1.000000      0.100000\n",
      "10%         4.800000      2.500000       1.400000      0.200000\n",
      "40%         5.600000      3.000000       3.900000      1.160000\n",
      "50%         5.800000      3.000000       4.350000      1.300000\n",
      "60%         6.100000      3.100000       4.640000      1.500000\n",
      "90%         6.900000      3.610000       5.800000      2.200000\n",
      "max         7.900000      4.400000       6.900000      2.500000\n",
      "\n",
      "       SepalLengthCm  SepalWidthCm  PetalLengthCm  PetalWidthCm\n",
      "count     150.000000    150.000000     150.000000    150.000000\n",
      "mean        0.428704      0.439167       0.467571      0.457778\n",
      "std         0.230018      0.180664       0.299054      0.317984\n",
      "min         0.000000      0.000000       0.000000      0.000000\n",
      "10%         0.138889      0.208333       0.067797      0.041667\n",
      "40%         0.361111      0.416667       0.491525      0.441667\n",
      "50%         0.416667      0.416667       0.567797      0.500000\n",
      "60%         0.500000      0.458333       0.616949      0.583333\n",
      "90%         0.722222      0.670833       0.813559      0.875000\n",
      "max         1.000000      1.000000       1.000000      1.000000\n"
     ]
    },
    {
     "data": {
      "image/png": "[encoded data removed]",
      "text/plain": [
       "<Figure size 1152x1008 with 4 Axes>"
      ]
     },
     "metadata": {},
     "output_type": "display_data"
    }
   ],
   "source": [
    "# Normalize The Dataframe Either Using The First Two Functions Sequentially or The Second Function Alone\n",
    "def min_max_norm(array):\n",
    "    array = [ ((x-np.min(array)) / (np.max(array)-np.min(array))) for x in array]\n",
    "    return array\n",
    "\n",
    "# Shift The Mean To Be 0 -- Feature Standardization\n",
    "def feat_standardization(array):\n",
    "    array = [((x-np.mean(array)) / np.std(array)) for x in array]\n",
    "    return array\n",
    "\n",
    "def best_normalization(array):\n",
    "    array = [ ((x-np.mean(array)) / (np.max(array)-np.min(array))) for x in array]\n",
    "    return array\n",
    "\n",
    "df_norm = df.copy()\n",
    "for column in df_norm:\n",
    "    if column != \"Species\":\n",
    "        \n",
    "        df_norm[column] = min_max_norm(feat_standardization(df_norm[column]))\n",
    "        # df_norm[column] = best_normalization(df_norm[column])\n",
    "\n",
    "print(df.describe(percentiles=[0.1, 0.4, 0.6, 0.9]))\n",
    "print()\n",
    "print(df_norm.describe(percentiles=[0.1, 0.4, 0.6, 0.9]))\n",
    "\n",
    "# USE THIS BETTER TO DETERMINE OUTLIERS (CAN'T SEE ANY)\n",
    "plt.figure(figsize=[16,14])\n",
    "for i, column in enumerate(df_norm):\n",
    "    if column != \"Species\":\n",
    "        plt.subplot(2,2,(i+1))\n",
    "        plt.title(column)\n",
    "        plt.hist(df_norm[column], bins=16)"
   ]
  },
  {
   "cell_type": "markdown",
   "metadata": {},
   "source": [
    "***\n",
    "### <center><br>Step 2.4 - Change The Labels From Words To Numbers\n",
    "    \n",
    "***\n",
    "\n",
    "The 3 Flowers Will Be Encoded With Values:\n",
    "- **0**  ***--------***  **IRIS-SETOSA**\n",
    "- **1**  ***--------***  **IRIS-VERSICOLOR**\n",
    "- **2**  ***--------***  **IRIS-VIRGINICA**\n",
    "\n",
    "***"
   ]
  },
  {
   "cell_type": "code",
   "execution_count": 4,
   "metadata": {},
   "outputs": [
    {
     "name": "stdout",
     "output_type": "stream",
     "text": [
      "     SepalLengthCm  SepalWidthCm  PetalLengthCm  PetalWidthCm  Species\n",
      "Id                                                                    \n",
      "70        0.361111      0.208333       0.491525      0.416667        1\n",
      "97        0.388889      0.375000       0.542373      0.500000        1\n",
      "65        0.361111      0.375000       0.440678      0.500000        1\n",
      "118       0.944444      0.750000       0.966102      0.875000        2\n",
      "36        0.194444      0.500000       0.033898      0.041667        0\n"
     ]
    }
   ],
   "source": [
    "df_norm = df_norm.replace(\"Iris-setosa\", 0)\n",
    "df_norm = df_norm.replace(\"Iris-versicolor\", 1)\n",
    "df_norm = df_norm.replace(\"Iris-virginica\", 2)\n",
    "\n",
    "print(df_norm.sample(5))"
   ]
  },
  {
   "cell_type": "markdown",
   "metadata": {},
   "source": [
    "***\n",
    "### <center><br>Step 2.5 - Split The Data into Train/Dev/Test Sets\n",
    "    \n",
    "***\n",
    "\n",
    "Split the dataset up into 3 parts\n",
    "- **80.00%**  *split for*  **TRAIN**\n",
    "- **13.33%**  *split for*  **DEVELOPMENT**\n",
    "- **6.666%**  *split for*  **TEST**\n",
    "\n",
    "***"
   ]
  },
  {
   "cell_type": "code",
   "execution_count": 5,
   "metadata": {},
   "outputs": [
    {
     "name": "stdout",
     "output_type": "stream",
     "text": [
      "\n",
      "Original dataframe has 150 examples in 5 categories\n",
      "\n",
      "Training dataframe has 112 examples in 5 categories\n",
      "\n",
      "Development dataframe has 25 examples in 5 categories\n",
      "\n",
      "Validation dataframe has 38 examples in 5 categories\n",
      "\n",
      "Test dataframe has 13 examples in 5 categories\n",
      "\n"
     ]
    }
   ],
   "source": [
    "train_df, dev_test = train_test_split(df_norm, test_size=0.25, random_state=3)\n",
    "\n",
    "val_df = dev_test\n",
    "dev_df, test_df = train_test_split(dev_test, test_size=0.333, random_state=3)\n",
    "\n",
    "print(\"\\nOriginal dataframe has {} examples in {} categories\".format(df_norm.shape[0], df_norm.shape[1]))\n",
    "print(\"\\nTraining dataframe has {} examples in {} categories\".format(train_df.shape[0], train_df.shape[1]))\n",
    "print(\"\\nDevelopment dataframe has {} examples in {} categories\".format(dev_df.shape[0], dev_df.shape[1]))\n",
    "print(\"\\nValidation dataframe has {} examples in {} categories\".format(val_df.shape[0], val_df.shape[1]))\n",
    "print(\"\\nTest dataframe has {} examples in {} categories\\n\".format(test_df.shape[0], test_df.shape[1]))"
   ]
  },
  {
   "cell_type": "markdown",
   "metadata": {},
   "source": [
    "***\n",
    "## <center>Step 3 : Work Through The Various Alogirthms\n",
    "\n",
    "***\n",
    "At this step we will look at, and apply all the various ML algorithms to the task at hand to create a stable of models\n",
    "***\n",
    "![iris_2](./inline_images/iris_2.png)\n",
    "***\n",
    "\n",
    "**<center>Figure 2:</center>**\n",
    "*<center>Over time, many statistical machine learning approaches have been developed</center>*\n",
    "*<center>You can use this map from the scikit-learn team as a guide for the most popular methods</center>*\n",
    "\n",
    "***\n",
    "- **k-Nearest Neighbors (k-NN)**\n",
    "    - h \n",
    "    - h\n",
    "- **Naïve Bayes**\n",
    "    - h \n",
    "    - h\n",
    "- **Logistic Regression**\n",
    "    - h \n",
    "    - h\n",
    "- **Support Vector Machines (SVMs)**\n",
    "    - h \n",
    "    - h\n",
    "- **Decision Trees**\n",
    "    - h \n",
    "    - h\n",
    "- **Random Forests**\n",
    "    - h \n",
    "    - h\n",
    "- **Perceptrons (Simple NNs)**\n",
    "    - h \n",
    "    - h\n",
    "- **Multi-layer, feedforward neural networks (DNNs)**\n",
    "    - h \n",
    "    - h\n",
    "- **Convolutional Neural Networks (CNNs)**\n",
    "    - h \n",
    "    - h\n",
    "\n",
    "***"
   ]
  },
  {
   "cell_type": "code",
   "execution_count": 6,
   "metadata": {},
   "outputs": [],
   "source": [
    "# We define the dictionary of models our script can use:\n",
    "#\n",
    "#        --- The   KEY   to the dictionary is the name of the model\n",
    "#        --- The  VALUE  is the model itself\n",
    "\n",
    "#         \"key\": value\n",
    "\n",
    "models = {\"knn\": KNeighborsClassifier(n_neighbors=1),\n",
    "          \"naive_bayes\": GaussianNB(),\n",
    "          \"logit\": LogisticRegression(solver=\"lbfgs\", multi_class=\"auto\"),\n",
    "          \"svm\": SVC(kernel=\"rbf\", gamma=\"auto\"),\n",
    "          \"decision_tree\": DecisionTreeClassifier(),\n",
    "          \"random_forest\": RandomForestClassifier(n_estimators=100),\n",
    "          \"ml_perceptron\": MLPClassifier()\n",
    "}"
   ]
  },
  {
   "cell_type": "code",
   "execution_count": 9,
   "metadata": {},
   "outputs": [
    {
     "name": "stdout",
     "output_type": "stream",
     "text": [
      "<class 'sklearn.neighbors.classification.KNeighborsClassifier'>\n"
     ]
    }
   ],
   "source": [
    "# Choose the model you wish to implement\n",
    "model = models[\"knn\"]\n",
    "print(type(model))"
   ]
  },
  {
   "cell_type": "code",
   "execution_count": 8,
   "metadata": {},
   "outputs": [
    {
     "data": {
      "text/plain": [
       "KNeighborsClassifier(algorithm='auto', leaf_size=30, metric='minkowski',\n",
       "           metric_params=None, n_jobs=None, n_neighbors=1, p=2,\n",
       "           weights='uniform')"
      ]
     },
     "execution_count": 8,
     "metadata": {},
     "output_type": "execute_result"
    }
   ],
   "source": [
    "model.fit(train_df.iloc[:,:-1], train_df.iloc[:,-1])"
   ]
  },
  {
   "cell_type": "code",
   "execution_count": 10,
   "metadata": {},
   "outputs": [],
   "source": [
    "predictions = model.predict(val_df.iloc[:,:-1])"
   ]
  },
  {
   "cell_type": "code",
   "execution_count": 11,
   "metadata": {},
   "outputs": [
    {
     "name": "stdout",
     "output_type": "stream",
     "text": [
      "                 precision    recall  f1-score   support\n",
      "\n",
      "    Iris-Setosa       1.00      1.00      1.00        15\n",
      "Iris-Versicolor       0.91      0.83      0.87        12\n",
      " Iris-Virginica       0.83      0.91      0.87        11\n",
      "\n",
      "      micro avg       0.92      0.92      0.92        38\n",
      "      macro avg       0.91      0.91      0.91        38\n",
      "   weighted avg       0.92      0.92      0.92        38\n",
      "\n"
     ]
    }
   ],
   "source": [
    "print(classification_report(val_df.iloc[:,-1], predictions, target_names=[\"Iris-Setosa\", \"Iris-Versicolor\", \"Iris-Virginica\"]))"
   ]
  },
  {
   "cell_type": "code",
   "execution_count": null,
   "metadata": {},
   "outputs": [],
   "source": []
  }
 ],
 "metadata": {
  "kernelspec": {
   "display_name": "Python [conda env:tensorflow_p36]",
   "language": "python",
   "name": "conda-env-tensorflow_p36-py"
  },
  "language_info": {
   "codemirror_mode": {
    "name": "ipython",
    "version": 3
   },
   "file_extension": ".py",
   "mimetype": "text/x-python",
   "name": "python",
   "nbconvert_exporter": "python",
   "pygments_lexer": "ipython3",
   "version": "3.6.5"
  }
 },
 "nbformat": 4,
 "nbformat_minor": 2
}
